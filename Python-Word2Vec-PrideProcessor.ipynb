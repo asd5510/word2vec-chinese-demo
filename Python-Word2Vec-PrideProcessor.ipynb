{
 "cells": [
  {
   "cell_type": "code",
   "execution_count": 29,
   "metadata": {
    "collapsed": false
   },
   "outputs": [],
   "source": [
    "import json\n",
    "import gensim\n",
    "import matplotlib.pyplot as plt\n",
    "import numpy as np\n",
    "from pattern.en import parse\n",
    "from pattern.en import tag as ptag\n",
    "import string\n",
    "import tsne  # local copy in the repo"
   ]
  },
  {
   "cell_type": "code",
   "execution_count": 11,
   "metadata": {
    "collapsed": false
   },
   "outputs": [],
   "source": [
    "%matplotlib inline"
   ]
  },
  {
   "cell_type": "markdown",
   "metadata": {},
   "source": [
    "### The stuff for processing all the book files"
   ]
  },
  {
   "cell_type": "code",
   "execution_count": 86,
   "metadata": {
    "collapsed": false
   },
   "outputs": [],
   "source": [
    "sample_parsed = parse(\"He is a text sample showing you what happens when you use this function for her.\", \n",
    "   tokenize = True,         # Split punctuation marks from words?\n",
    "       tags = True,         # Parse part-of-speech tags? (NN, JJ, ...)\n",
    "     chunks = False,        # Parse chunks? (NP, VP, PNP, ...)\n",
    "  relations = False,         # Parse chunk relations? (-SBJ, -OBJ, ...)\n",
    "    lemmata = False,        # Parse lemmata? (ate => eat)\n",
    "   encoding = 'utf-8',      # Input string encoding.\n",
    "     tagset = None)"
   ]
  },
  {
   "cell_type": "code",
   "execution_count": 87,
   "metadata": {
    "collapsed": false
   },
   "outputs": [
    {
     "data": {
      "text/plain": [
       "u'He/PRP is/VBZ a/DT text/NN sample/NN showing/VBG you/PRP what/WP happens/VBZ when/WRB you/PRP use/VB this/DT function/NN for/IN her/PRP ./.'"
      ]
     },
     "execution_count": 87,
     "metadata": {},
     "output_type": "execute_result"
    }
   ],
   "source": [
    "# just showing you what it looks like\n",
    "sample_parsed"
   ]
  },
  {
   "cell_type": "code",
   "execution_count": 59,
   "metadata": {
    "collapsed": false
   },
   "outputs": [],
   "source": [
    "\"\"\" A bunch of functions that do text cleanup and create the strings of nouns for the model training.\"\"\"\n",
    "\n",
    "def tag_by_line(line, tags):\n",
    "    \"\"\" Look for only the words with those tags \"\"\"\n",
    "    words = []\n",
    "    #print ptag(line)\n",
    "    for word, foundtag in ptag(line):\n",
    "        if foundtag in tags:\n",
    "            words.append(word)\n",
    "    return words\n",
    "\n",
    "def cleanup(text):\n",
    "    \"\"\" This function cleans up the text a bit, and removes newlines. \"\"\"\n",
    "    data = text.decode('utf8')\n",
    "    data = data.replace('\\r', '')  # windows newline in some files\n",
    "    data = data.replace('\\n', ' ')  # turn newline into space\n",
    "    data = data.replace('_', '')\n",
    "    data = data.replace('--', ' -- ')\n",
    "    data = data.replace(',', ' ')\n",
    "    data = data.replace('.', ' ')\n",
    "    data = data.strip()  # strip remaining white space chars from edges\n",
    "    return data\n",
    "\n",
    "\n",
    "def cleanup_and_pos(text, pos=['NN']):\n",
    "    \"\"\" \n",
    "    Run the cleanup function, convert to a list of tag types, clean out misc stuff left.\n",
    "    Also converts back to a space sep string of the text we want in the model/output only\n",
    "    \"\"\"\n",
    "    # put your own list of strings here, based on reading outputs:\n",
    "    other_things_to_strip = ['s', '\\'s', 'n\\'t', '\\'ll', 'chapter', 'CHAPTER']\n",
    "    \n",
    "    data = cleanup(text)\n",
    "    words = tag_by_line(data, pos)   # returns a list of words of that POS (part of speech)\n",
    "    cleantext = [word.lower() for word in words if word not in string.punctuation]\n",
    "    cleantext = [word for word in cleantext if word not in other_things_to_strip]\n",
    "    newdata = ' '.join(cleantext)  # make it a single string, the model likes that\n",
    "    return newdata"
   ]
  },
  {
   "cell_type": "code",
   "execution_count": 60,
   "metadata": {
    "collapsed": false
   },
   "outputs": [],
   "source": [
    "\"\"\"\n",
    "Model text generator - based on Radim's sample code for gensim.\n",
    "This produces a line at a time of cleaned, tag-only text for the model to train from.\n",
    "\"\"\"\n",
    " \n",
    "import os\n",
    "import re\n",
    "\n",
    "class MySentences(object):\n",
    "    def __init__(self, dirname, tags=['NN']):\n",
    "        self.dirname = dirname\n",
    "        self.tags = tags\n",
    "    def __iter__(self):\n",
    "        for fname in os.listdir(self.dirname):\n",
    "            for line in open(os.path.join(self.dirname, fname)):\n",
    "                yield (cleanup_and_pos(line, pos=self.tags)).split()"
   ]
  },
  {
   "cell_type": "code",
   "execution_count": 228,
   "metadata": {
    "collapsed": false
   },
   "outputs": [],
   "source": [
    "\"\"\" An alternate from gensim tutorials - just use all words in the model. \"\"\"\n",
    "\n",
    "class DirOfPlainTextCorpus(object):\n",
    "    \"\"\"Iterate over sentences of all plaintext files in a directory \"\"\"\n",
    "    SPLIT_SENTENCES = re.compile(u\"[.!?:]\\s+\")  # split sentences on these characters\n",
    "\n",
    "    def __init__(self, dirname):\n",
    "        self.dirname = dirname\n",
    "\n",
    "    def __iter__(self):\n",
    "        for fn in os.listdir(self.dirname):\n",
    "            text = open(os.path.join(self.dirname, fn)).read()\n",
    "            for sentence in self.SPLIT_SENTENCES.split(text):\n",
    "                yield gensim.utils.simple_preprocess(sentence, deacc=True)"
   ]
  },
  {
   "cell_type": "code",
   "execution_count": 241,
   "metadata": {
    "collapsed": false
   },
   "outputs": [],
   "source": [
    "### updates datadict, uses model, tags, writes labeled txt file out\n",
    "\n",
    "def clean_dict_keys(datadict):\n",
    "    \"\"\" Removes words that make bad keys/nouns for the word swaps. \"\"\"\n",
    "    for key in datadict.keys():\n",
    "        if key == 'xi':\n",
    "            datadict.pop(key, None)\n",
    "        if ',' in key:\n",
    "            datadict.pop(key, None)\n",
    "            continue\n",
    "        if '--' in key:\n",
    "            datadict.pop(key, None)\n",
    "            continue\n",
    "        if 'xx' in key:\n",
    "            datadict.pop(key, None)\n",
    "            continue\n",
    "        if 'xv' in key:\n",
    "            datadict.pop(key, None)\n",
    "            continue\n",
    "        if '\\n' in key:\n",
    "            datadict.pop(key, None)\n",
    "            continue\n",
    "        if '.' in key:\n",
    "            datadict.pop(key, None)\n",
    "            continue\n",
    "    return datadict\n",
    "\n",
    "def cap_me(word, capflag):\n",
    "    \"\"\" Capitalizes the word if it was in the original text \"\"\"\n",
    "    if capflag:\n",
    "        return word.capitalize()\n",
    "    else:\n",
    "        return word\n",
    "\n",
    "def build_dict_write_file(model, outputtextfile, outputdatafile, tags=['NN']):\n",
    "    \"\"\" Writes out the labeled text with word swaps, returns datadict \"\"\"\n",
    "    \n",
    "    screen_outs = ['CHAPTER', 'chapter', 'Chapter', '', ',', 'xi']  # too common and not useful\n",
    "    datadict = {}\n",
    "    \n",
    "    print tags\n",
    "    \n",
    "    with open('books/austen_pride.txt', 'r') as handle:\n",
    "        lines = handle.read()\n",
    "        lines = lines.split('\\n\\r')\n",
    "        full_text = ''\n",
    "        for sample in lines:\n",
    "            new = sample.replace('\\n\\r',' ')\n",
    "            new = new.replace('_', '')\n",
    "            new = new.replace(',', ', ')\n",
    "            new = new.replace('--', ' -- ')\n",
    "            line = parse(new, \n",
    "               tokenize = True,     # Split punctuation marks from words?\n",
    "               tags = True,         # Parse part-of-speech tags? (NN, JJ, ...)\n",
    "             chunks = False,        # Parse chunks? (NP, VP, PNP, ...)\n",
    "          relations = False,        # Parse chunk relations? (-SBJ, -OBJ, ...)\n",
    "            lemmata = False,        # Parse lemmata? (ate => eat)\n",
    "           encoding = 'utf-8',      # Input string encoding.\n",
    "             tagset = None)\n",
    "            line = line.replace('\\n', ' ')\n",
    "            sample_spaced = line.split(' ')\n",
    "            line_text = '<p>'\n",
    "            for word in sample_spaced:\n",
    "                capFlag = False\n",
    "                newWord = word\n",
    "                word = word.replace('\\n', ' ')\n",
    "                if word.strip() == '':\n",
    "                    continue\n",
    "                bits = word.split('/')\n",
    "                if len(bits) == 2:\n",
    "                    if bits[1] in tags and bits[0] not in screen_outs:\n",
    "                        if bits[0][0] in \"ABCDEFGHIJKLMNOPQRSTUVWXYZ\":  # check for first cap\n",
    "                            capFlag = True\n",
    "                        \n",
    "                        try:\n",
    "                            # best match for original word\n",
    "                            best = model.most_similar(positive=[bits[0].lower()], negative=[], topn=1)   # (word, score)\n",
    "                            if best[0][0].strip() in screen_outs:\n",
    "                                raise 'WordError'\n",
    "                            # add original word to datadict, with best match as word for it\n",
    "                            datadict[bits[0].lower().encode('utf8')] = {\"word\": best[0][0].lower(), \n",
    "                                                                        \"score\": \"%.3f\" % best[0][1]}\n",
    "                            # add the reverse word to the same dict, for graphing in front end\n",
    "                            best_reverse = model.most_similar(positive=[best[0][0]], negative=[], topn=1)\n",
    "                            if best_reverse[0][0] in screen_outs:\n",
    "                                raise 'WordError'\n",
    "                            datadict[best[0][0].lower().encode('utf8')] = {\"word\": best_reverse[0][0].lower(), \n",
    "                                                                           \"score\": \"%.3f\" % best_reverse[0][1]}\n",
    "                            newWord = '<span class=\"color\" title=\"Was: <span class=\\'purple\\'>'\\\n",
    "                                    + bits[0] + '</span> / Word2Vec similarity: ' + str(round(best[0][1],3))\\\n",
    "                                    + '\" formerWord=\"' + bits[0].lower() + '\" newWord=\"' + best[0][0].lower() + '\" score=\"'\\\n",
    "                                    + str(round(best[0][1],3)) + '\">' + cap_me(best[0][0],capFlag) + '</span>'\n",
    "                            line_text += newWord\n",
    "                        except Exception, e:  # on model errors etc, just continue past it\n",
    "                            print e\n",
    "                            line_text += word.replace('/NN', '')\n",
    "                            pass\n",
    "                    \n",
    "                    else:\n",
    "                        if bits[0] in [',',':','.','\"',';','?', '!', '\\'s', '\\'ll', 'n\\'t']:\n",
    "                            line_text = line_text.strip() # remove spaces before these\n",
    "                        line_text += bits[0]\n",
    "                    if line_text[-1] != '\"':  # no space after quotes; hacky.\n",
    "                        line_text += ' '\n",
    "                else:\n",
    "                    if word.strip() != '':\n",
    "                        line_text += word.strip()\n",
    "            full_text += line_text + '\\n'\n",
    "\n",
    "    print \"vocab before clean\", datadict.keys()\n",
    "    datadict = clean_dict_keys(datadict)\n",
    "    print \"vocab after clean\", datadict.keys()\n",
    "    \n",
    "    with open(outputtextfile, 'w') as handle:\n",
    "        handle.write(full_text.encode('utf8'))\n",
    "    jsonfile = json.dumps(datadict)\n",
    "    with open(outputdatafile, 'w') as handle:\n",
    "        handle.write(jsonfile)\n",
    "\n",
    "    print \"Wrote out to data directory:\", outputtextfile, outputdatafile\n",
    "    return datadict"
   ]
  },
  {
   "cell_type": "code",
   "execution_count": 242,
   "metadata": {
    "collapsed": false
   },
   "outputs": [],
   "source": [
    "# The wrapper function that runs everything, writes files, and returns useful things.\n",
    "def run_all(tags=['NN'], filepref='data/pride_NN'):\n",
    "    \n",
    "    # notice here i require at least 2 uses of each word in the corpus - reduces noise\n",
    "    \n",
    "    # uncomment the version of the model you want to try: tag limited, or all words.\n",
    "    #model = gensim.models.Word2Vec(MySentences('books', tags=tags), min_count=2, size=200, workers=2)\n",
    "    model = gensim.models.Word2Vec(DirOfPlainTextCorpus('books'), min_count=3, workers=2)\n",
    "    model.save(filepref + '_model_austen_allwordsmin3')\n",
    "    \n",
    "    # if you want to save time and use a saved file, comment out the above and uncomment this with right path\n",
    "    #model = gensim.models.Word2Vec.load('data/pride_NNPRP_model_austen_all')\n",
    "    \n",
    "    # does the text tagging and word replacement\n",
    "    print tags\n",
    "    datadict = build_dict_write_file(model, filepref + '_labeled.txt', filepref + '_data.json', tags=tags)\n",
    "    \n",
    "    # tsne input files part\n",
    "    make_score_files(model, datadict, filepref)\n",
    "    \n",
    "    # the actual tsne graph bit\n",
    "    X = np.loadtxt(filepref + \"_scores.csv\")\n",
    "    labels = np.genfromtxt(filepref + \"_words.csv\", dtype=str)\n",
    "    Y = tsne.tsne(X, 2, 50, 20.0)   # see tsne.py in repo\n",
    "    do_tsne_files(filepref + '_coords.tsv', Y, labels, datadict, axis_off=True)\n",
    "    \n",
    "    return Y, labels, datadict, model"
   ]
  },
  {
   "cell_type": "code",
   "execution_count": null,
   "metadata": {
    "collapsed": true
   },
   "outputs": [],
   "source": [
    "# run it all together and get the useful outputs - this takes a while and prints a lot of stuff.\n",
    "Y, labels, datadict, model = run_all(tags=['NN'], filepref='data/pride_NNAll3')"
   ]
  },
  {
   "cell_type": "markdown",
   "metadata": {},
   "source": [
    "#### Do the file splitting part for the UI - Make sure to rename the label file for the output"
   ]
  },
  {
   "cell_type": "code",
   "execution_count": 234,
   "metadata": {
    "collapsed": false
   },
   "outputs": [],
   "source": [
    "!split -l 200 data/pride_NNAll3_labeled.txt part"
   ]
  },
  {
   "cell_type": "code",
   "execution_count": 235,
   "metadata": {
    "collapsed": false
   },
   "outputs": [],
   "source": [
    "%%bash\n",
    "mv partaa data/parts/part1.txt\n",
    "mv partab data/parts/part2.txt\n",
    "mv partac data/parts/part3.txt\n",
    "mv partad data/parts/part4.txt\n",
    "mv partae data/parts/part5.txt\n",
    "mv partaf data/parts/part6.txt\n",
    "mv partag data/parts/part7.txt\n",
    "mv partah data/parts/part8.txt\n",
    "mv partai data/parts/part9.txt\n",
    "mv partaj data/parts/part10.txt\n",
    "mv partak data/parts/part11.txt\n",
    "mv partal data/parts/part12.txt"
   ]
  },
  {
   "cell_type": "code",
   "execution_count": 236,
   "metadata": {
    "collapsed": false
   },
   "outputs": [
    {
     "name": "stdout",
     "output_type": "stream",
     "text": [
      "part1.txt   part11.txt  part2.txt   part4.txt   part6.txt   part8.txt\r\n",
      "part10.txt  part12.txt  part3.txt   part5.txt   part7.txt   part9.txt\r\n"
     ]
    }
   ],
   "source": [
    "ls data/parts"
   ]
  },
  {
   "cell_type": "markdown",
   "metadata": {},
   "source": [
    "#### Play with your model if you want... "
   ]
  },
  {
   "cell_type": "code",
   "execution_count": 232,
   "metadata": {
    "collapsed": false
   },
   "outputs": [
    {
     "data": {
      "text/plain": [
       "[(u'nerves', 0.8918779492378235),\n",
       " (u'lifting', 0.7963227033615112),\n",
       " (u'wishes', 0.7679949998855591),\n",
       " (u'nephew', 0.7674976587295532),\n",
       " (u'senses', 0.7639766931533813),\n",
       " (u'daughter', 0.7601332664489746),\n",
       " (u'ladyship', 0.7527087330818176),\n",
       " (u'daughters', 0.7525165677070618),\n",
       " (u'thoughts', 0.7426179647445679),\n",
       " (u'mother', 0.7310776710510254)]"
      ]
     },
     "execution_count": 232,
     "metadata": {},
     "output_type": "execute_result"
    }
   ],
   "source": [
    "model.most_similar(['husband'])"
   ]
  },
  {
   "cell_type": "code",
   "execution_count": 231,
   "metadata": {
    "collapsed": false
   },
   "outputs": [
    {
     "data": {
      "text/plain": [
       "[(u'son', 0.7893723249435425),\n",
       " (u'reviving', 0.7113327980041504),\n",
       " (u'daughter', 0.7054953575134277),\n",
       " (u'admittance', 0.6823280453681946),\n",
       " (u'attentions', 0.658092737197876),\n",
       " (u'warmed', 0.6542254090309143),\n",
       " (u'niece', 0.6514275074005127),\n",
       " (u'addresses', 0.6490938663482666),\n",
       " (u'proposals', 0.647223174571991),\n",
       " (u'behaviour', 0.6413060426712036)]"
      ]
     },
     "execution_count": 231,
     "metadata": {},
     "output_type": "execute_result"
    }
   ],
   "source": [
    "model.most_similar(['wife'])"
   ]
  },
  {
   "cell_type": "markdown",
   "metadata": {},
   "source": [
    "### TSNE Plotting Stuff"
   ]
  },
  {
   "cell_type": "code",
   "execution_count": 35,
   "metadata": {
    "collapsed": false
   },
   "outputs": [],
   "source": [
    "# for tsne - write out the scores and labels as 2 row syncd files - can be used in R now.\n",
    "\n",
    "def make_score_files(model, datadict, filelabel):\n",
    "    with open(filelabel + '_scores.csv', 'w') as scorefile:\n",
    "        with open(filelabel + '_words.csv', 'w') as wordfile:\n",
    "            for word in datadict.keys():\n",
    "                try:\n",
    "                    score = model[word.lower()]\n",
    "                    scores = [str(x) for x in score]\n",
    "                    scorefile.write('\\t'.join(scores) + '\\n')\n",
    "                    wordfile.write(word.lower() + '\\n')\n",
    "                except:\n",
    "                    print \"Not found:\", word, datadict[word]\n",
    "                    continue\n",
    "            scorefile.write('\\n')\n",
    "            wordfile.write('\\n')\n",
    "    print 'Wrote ', scorefile, wordfile"
   ]
  },
  {
   "cell_type": "code",
   "execution_count": 52,
   "metadata": {
    "collapsed": false
   },
   "outputs": [],
   "source": [
    "!paste data/pride_NN_words.csv data/pride_NN_scores.csv > data_for_r.tsv"
   ]
  },
  {
   "cell_type": "markdown",
   "metadata": {},
   "source": [
    "#### The scores and words csv files you just wrote out can be used in the R code in the repo, if you want to try that for the plot instead."
   ]
  },
  {
   "cell_type": "code",
   "execution_count": 204,
   "metadata": {
    "collapsed": false
   },
   "outputs": [],
   "source": [
    "# this is a function you can call independently with output from your run-all run, to jigger with details if you want.\n",
    "\n",
    "def do_tsne_files(coordsfilename, Y, labels, datadict, axis_off=True):\n",
    "    \"\"\" Makes the tsne grah file and writes out the coords for the UI. \"\"\"\n",
    "    plt.figure(figsize=(15, 15))\n",
    "    if axis_off:\n",
    "        plt.axis('off')   # only turn off after checking the axis min/max\n",
    "    plt.scatter(Y[:,0], Y[:,1], s=10, color='gray', alpha=0.2)\n",
    "    print \"X and Y dims \", plt.axis()\n",
    "    with open(coordsfilename, 'w') as handle1:\n",
    "        handle1.write('word\\tx\\ty\\tnearest\\n')\n",
    "        for label, x, y in zip(labels, Y[:, 0], Y[:, 1]):\n",
    "            score = datadict[label]['score']\n",
    "            handle1.write('\\t'.join([label, str(x), str(y), str(score)]) + '\\n')\n",
    "            #plt.text(x, y, label, size=8, alpha=0.5)\n",
    "    print \"wrote out\", coordsfilename"
   ]
  },
  {
   "cell_type": "code",
   "execution_count": 246,
   "metadata": {
    "collapsed": false
   },
   "outputs": [
    {
     "name": "stdout",
     "output_type": "stream",
     "text": [
      "X and Y dims  (-150.0, 150.0, -150.0, 150.0)\n",
      "wrote out misc.tsv\n"
     ]
    },
    {
     "data": {
      "image/png": "[encoded data removed]",
      "text/plain": [
       "<matplotlib.figure.Figure at 0x11002b990>"
      ]
     },
     "metadata": {},
     "output_type": "display_data"
    }
   ],
   "source": [
    "do_tsne_files('misc.tsv', Y, labels, datadict, axis_off=False)   # run this again with axis on, to check axes limits for the graph..."
   ]
  },
  {
   "cell_type": "code",
   "execution_count": null,
   "metadata": {
    "collapsed": false
   },
   "outputs": [],
   "source": []
  }
 ],
 "metadata": {
  "kernelspec": {
   "display_name": "Python 2",
   "language": "python",
   "name": "python2"
  },
  "language_info": {
   "codemirror_mode": {
    "name": "ipython",
    "version": 2
   },
   "file_extension": ".py",
   "mimetype": "text/x-python",
   "name": "python",
   "nbconvert_exporter": "python",
   "pygments_lexer": "ipython2",
   "version": "2.7.11"
  }
 },
 "nbformat": 4,
 "nbformat_minor": 0
}
